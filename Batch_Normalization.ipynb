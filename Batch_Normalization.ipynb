{
  "nbformat": 4,
  "nbformat_minor": 0,
  "metadata": {
    "colab": {
      "name": "Batch_Normalization.ipynb",
      "provenance": [],
      "collapsed_sections": [],
      "authorship_tag": "ABX9TyM2xkdXF9DCYJfqnBHUvPrs",
      "include_colab_link": true
    },
    "kernelspec": {
      "name": "python3",
      "display_name": "Python 3"
    },
    "accelerator": "GPU"
  },
  "cells": [
    {
      "cell_type": "markdown",
      "metadata": {
        "id": "view-in-github",
        "colab_type": "text"
      },
      "source": [
        "<a href=\"https://colab.research.google.com/github/Musbell/Batch_Normalization/blob/master/Batch_Normalization.ipynb\" target=\"_parent\"><img src=\"https://colab.research.google.com/assets/colab-badge.svg\" alt=\"Open In Colab\"/></a>"
      ]
    },
    {
      "cell_type": "code",
      "metadata": {
        "id": "DBS5c9tPZoQZ",
        "colab_type": "code",
        "colab": {}
      },
      "source": [
        "%matplotlib inline\n",
        "\n",
        "import numpy as np\n",
        "import torch\n",
        "import matplotlib.pyplot as plt"
      ],
      "execution_count": 0,
      "outputs": []
    },
    {
      "cell_type": "code",
      "metadata": {
        "id": "lNW2UWYccAFs",
        "colab_type": "code",
        "colab": {}
      },
      "source": [
        "from torchvision import datasets\n",
        "import torchvision.transforms as transfoms\n",
        "\n",
        "\n",
        "# number of subprocesses to use for data loading\n",
        "num_workers = 0\n",
        "# how many samples per batch to load\n",
        "batch_size = 64\n",
        "\n",
        "# convert data to torch.FloatTensor\n",
        "transform = transfoms.ToTensor()\n",
        "\n",
        "# get the training and test datasets\n",
        "train_data = datasets.MNIST(root='data', train=True,\n",
        "                            download=True, transform=transform)\n",
        "\n",
        "test_data = datasets.MNIST(root='data', train=False,\n",
        "                           download=True, transform=transform)\n",
        "\n",
        "# prepare data loaders\n",
        "train_loader = torch.utils.data.DataLoader(train_data, batch_size=batch_size,\n",
        "                                           num_workers=num_workers)\n",
        "\n",
        "test_loader = torch.utils.data.DataLoader(test_data, batch_size=batch_size,\n",
        "                                          num_workers=num_workers)"
      ],
      "execution_count": 0,
      "outputs": []
    },
    {
      "cell_type": "markdown",
      "metadata": {
        "id": "4G0iqNCXdrll",
        "colab_type": "text"
      },
      "source": [
        "**Visualize the data**"
      ]
    },
    {
      "cell_type": "code",
      "metadata": {
        "id": "9nOXvnnNd529",
        "colab_type": "code",
        "colab": {}
      },
      "source": [
        "# obtain one batch of training images\n",
        "dataiter = iter(train_loader)\n",
        "images, labels = dataiter.next()\n",
        "images = images.numpy()\n",
        "\n",
        "# get one image from the batch\n",
        "img = np.squeeze(images[0])\n",
        "\n",
        "fig = plt.figure(figsize = (3,3)) \n",
        "ax = fig.add_subplot(111)\n",
        "ax.imshow(img, cmap='gray')"
      ],
      "execution_count": 0,
      "outputs": []
    },
    {
      "cell_type": "markdown",
      "metadata": {
        "id": "EBkeV62kf2QQ",
        "colab_type": "text"
      },
      "source": [
        "**Model**"
      ]
    },
    {
      "cell_type": "code",
      "metadata": {
        "id": "_mb8qGk8f34y",
        "colab_type": "code",
        "colab": {}
      },
      "source": [
        "import torch.nn as nn\n",
        "import torch.nn.functional as F\n",
        "\n",
        "class NeuralNet(nn.Module):\n",
        "    def __init__(self, use_batch_norm, input_size=784, hidden_dim=256, output_size=10):\n",
        "        \"\"\"\n",
        "        Creates a PyTorch net using the given parameters.\n",
        "        \n",
        "        :param use_batch_norm: bool\n",
        "            Pass True to create a network that uses batch normalization; False otherwise\n",
        "            Note: this network will not use batch normalization on layers that do not have an\n",
        "            activation function.\n",
        "        \"\"\"\n",
        "        super(NeuralNet, self).__init__() # init super\n",
        "        \n",
        "        # Default layer sizes\n",
        "        self.input_size = input_size # (28*28 images)\n",
        "        self.hidden_dim = hidden_dim\n",
        "        self.output_size = output_size # (number of classes)\n",
        "        # Keep track of whether or not this network uses batch normalization.\n",
        "        self.use_batch_norm = use_batch_norm\n",
        "        \n",
        "        # define hidden linear layers, with optional batch norm on their outputs\n",
        "        # layers with batch_norm applied have no bias term\n",
        "        if use_batch_norm:\n",
        "            self.fc1 = nn.Linear(input_size, hidden_dim*2, bias=False)\n",
        "            self.batch_norm1 = nn.BatchNorm1d(hidden_dim*2)\n",
        "        else:\n",
        "            self.fc1 = nn.Linear(input_size, hidden_dim*2)\n",
        "            \n",
        "        # define *second* hidden linear layers, with optional batch norm on their outputs\n",
        "        if use_batch_norm:\n",
        "            self.fc2 = nn.Linear(hidden_dim*2, hidden_dim, bias=False)\n",
        "            self.batch_norm2 = nn.BatchNorm1d(hidden_dim)\n",
        "        else:\n",
        "            self.fc2 = nn.Linear(hidden_dim*2, hidden_dim)\n",
        "        \n",
        "        # third and final, fully-connected layer\n",
        "        self.fc3 = nn.Linear(hidden_dim, output_size)\n",
        "        \n",
        "        \n",
        "    def forward(self, x):\n",
        "        # flatten image\n",
        "        x = x.view(-1, 28*28)\n",
        "        # all hidden layers + optional batch norm + relu activation\n",
        "        x = self.fc1(x)\n",
        "        if self.use_batch_norm:\n",
        "            x = self.batch_norm1(x)\n",
        "        x = F.relu(x)\n",
        "        # second layer\n",
        "        x = self.fc2(x)\n",
        "        if self.use_batch_norm:\n",
        "            x = self.batch_norm2(x)\n",
        "        x = F.relu(x)\n",
        "        # third layer, no batch norm or activation\n",
        "        x = self.fc3(x)\n",
        "        return x"
      ],
      "execution_count": 0,
      "outputs": []
    },
    {
      "cell_type": "code",
      "metadata": {
        "id": "GqeouYnAf8je",
        "colab_type": "code",
        "colab": {}
      },
      "source": [
        "net_batchnorm = NeuralNet(use_batch_norm=True)\n",
        "net_no_norm = NeuralNet(use_batch_norm=False)\n",
        "\n",
        "print(net_batchnorm)\n",
        "print()\n",
        "print(net_no_norm)"
      ],
      "execution_count": 0,
      "outputs": []
    },
    {
      "cell_type": "markdown",
      "metadata": {
        "id": "ahyL93WIf__n",
        "colab_type": "text"
      },
      "source": [
        "**Training**"
      ]
    },
    {
      "cell_type": "code",
      "metadata": {
        "id": "-_WSBAAigBUP",
        "colab_type": "code",
        "colab": {}
      },
      "source": [
        "def train(model, n_epochs=10):\n",
        "    # number of epochs to train the model\n",
        "    n_epochs = n_epochs\n",
        "    # track losses\n",
        "    losses = []\n",
        "        \n",
        "    # optimization strategy \n",
        "    # specify loss function (categorical cross-entropy)\n",
        "    criterion = nn.CrossEntropyLoss()\n",
        "\n",
        "    # specify optimizer (stochastic gradient descent) and learning rate = 0.01\n",
        "    optimizer = torch.optim.SGD(model.parameters(), lr=0.01)\n",
        "\n",
        "    # set the model to training mode\n",
        "    model.train()\n",
        "    \n",
        "    for epoch in range(1, n_epochs+1):\n",
        "        # monitor training loss\n",
        "        train_loss = 0.0\n",
        "\n",
        "        ###################\n",
        "        # train the model #\n",
        "        ###################\n",
        "        batch_count = 0\n",
        "        for batch_idx, (data, target) in enumerate(train_loader):\n",
        "            # clear the gradients of all optimized variables\n",
        "            optimizer.zero_grad()\n",
        "            # forward pass: compute predicted outputs by passing inputs to the model\n",
        "            output = model(data)\n",
        "            # calculate the loss\n",
        "            loss = criterion(output, target)\n",
        "            # backward pass: compute gradient of the loss with respect to model parameters\n",
        "            loss.backward()\n",
        "            # perform a single optimization step (parameter update)\n",
        "            optimizer.step()\n",
        "            # update average training loss\n",
        "            train_loss += loss.item() # add up avg batch loss\n",
        "            batch_count +=1                \n",
        "\n",
        "        # print training statistics \n",
        "        losses.append(train_loss/batch_count)\n",
        "        print('Epoch: {} \\tTraining Loss: {:.6f}'.format(\n",
        "            epoch, \n",
        "            train_loss/batch_count))\n",
        "    \n",
        "    # return all recorded batch losses\n",
        "    return losses"
      ],
      "execution_count": 0,
      "outputs": []
    },
    {
      "cell_type": "markdown",
      "metadata": {
        "id": "2fSe5H5Mge26",
        "colab_type": "text"
      },
      "source": [
        "**Comparing Models**"
      ]
    },
    {
      "cell_type": "code",
      "metadata": {
        "id": "MHY_ugwFggLW",
        "colab_type": "code",
        "colab": {
          "base_uri": "https://localhost:8080/",
          "height": 187
        },
        "outputId": "a05c8f33-cbb6-4922-f8df-46c7faf69192"
      },
      "source": [
        "# batchnorm model losses\n",
        "# this may take some time to train\n",
        "losses_batchnorm = train(net_batchnorm)"
      ],
      "execution_count": 7,
      "outputs": [
        {
          "output_type": "stream",
          "text": [
            "Epoch: 1 \tTraining Loss: 0.391844\n",
            "Epoch: 2 \tTraining Loss: 0.161672\n",
            "Epoch: 3 \tTraining Loss: 0.112151\n",
            "Epoch: 4 \tTraining Loss: 0.083379\n",
            "Epoch: 5 \tTraining Loss: 0.063773\n",
            "Epoch: 6 \tTraining Loss: 0.049485\n",
            "Epoch: 7 \tTraining Loss: 0.038644\n",
            "Epoch: 8 \tTraining Loss: 0.030335\n",
            "Epoch: 9 \tTraining Loss: 0.023980\n",
            "Epoch: 10 \tTraining Loss: 0.019181\n"
          ],
          "name": "stdout"
        }
      ]
    },
    {
      "cell_type": "code",
      "metadata": {
        "id": "w9hzX9IkhRWO",
        "colab_type": "code",
        "colab": {
          "base_uri": "https://localhost:8080/",
          "height": 187
        },
        "outputId": "904de50f-aac9-436f-af81-7468bbf78f5c"
      },
      "source": [
        "# *no* norm model losses\n",
        "# you should already start to see a difference in training losses\n",
        "losses_no_norm = train(net_no_norm)"
      ],
      "execution_count": 8,
      "outputs": [
        {
          "output_type": "stream",
          "text": [
            "Epoch: 1 \tTraining Loss: 1.601485\n",
            "Epoch: 2 \tTraining Loss: 0.514129\n",
            "Epoch: 3 \tTraining Loss: 0.377413\n",
            "Epoch: 4 \tTraining Loss: 0.331069\n",
            "Epoch: 5 \tTraining Loss: 0.302515\n",
            "Epoch: 6 \tTraining Loss: 0.280362\n",
            "Epoch: 7 \tTraining Loss: 0.261271\n",
            "Epoch: 8 \tTraining Loss: 0.244147\n",
            "Epoch: 9 \tTraining Loss: 0.228510\n",
            "Epoch: 10 \tTraining Loss: 0.214234\n"
          ],
          "name": "stdout"
        }
      ]
    },
    {
      "cell_type": "code",
      "metadata": {
        "id": "o8GZGo-9htsj",
        "colab_type": "code",
        "colab": {
          "base_uri": "https://localhost:8080/",
          "height": 516
        },
        "outputId": "563b4c0d-a87a-4a3e-df43-4fe28ed73092"
      },
      "source": [
        "# compare\n",
        "fig, ax = plt.subplots(figsize=(12,8))\n",
        "#losses_batchnorm = np.array(losses_batchnorm)\n",
        "#losses_no_norm = np.array(losses_no_norm)\n",
        "plt.plot(losses_batchnorm, label='Using batchnorm', alpha=0.5)\n",
        "plt.plot(losses_no_norm, label='No norm', alpha=0.5)\n",
        "plt.title(\"Training Losses\")\n",
        "plt.legend()"
      ],
      "execution_count": 9,
      "outputs": [
        {
          "output_type": "execute_result",
          "data": {
            "text/plain": [
              "<matplotlib.legend.Legend at 0x7f5b06a10208>"
            ]
          },
          "metadata": {
            "tags": []
          },
          "execution_count": 9
        },
        {
          "output_type": "display_data",
          "data": {
            "image/png": "[encoded data removed]",
            "text/plain": [
              "<Figure size 864x576 with 1 Axes>"
            ]
          },
          "metadata": {
            "tags": [],
            "needs_background": "light"
          }
        }
      ]
    },
    {
      "cell_type": "markdown",
      "metadata": {
        "id": "N6UgDf0IhytP",
        "colab_type": "text"
      },
      "source": [
        "**Testing**"
      ]
    },
    {
      "cell_type": "code",
      "metadata": {
        "id": "NZMIet7uh0tD",
        "colab_type": "code",
        "colab": {}
      },
      "source": [
        "def test(model, train):\n",
        "    # initialize vars to monitor test loss and accuracy\n",
        "    class_correct = list(0. for i in range(10))\n",
        "    class_total = list(0. for i in range(10))\n",
        "    test_loss = 0.0\n",
        "\n",
        "    # set model to train or evaluation mode\n",
        "    # just to see the difference in behavior\n",
        "    if(train==True):\n",
        "        model.train()\n",
        "    if(train==False):\n",
        "        model.eval()\n",
        "    \n",
        "    # loss criterion\n",
        "    criterion = nn.CrossEntropyLoss()\n",
        "    \n",
        "    for batch_idx, (data, target) in enumerate(test_loader):\n",
        "        batch_size = data.size(0)\n",
        "        # forward pass: compute predicted outputs by passing inputs to the model\n",
        "        output = model(data)\n",
        "        # calculate the loss\n",
        "        loss = criterion(output, target)\n",
        "        # update average test loss \n",
        "        test_loss += loss.item()*batch_size\n",
        "        # convert output probabilities to predicted class\n",
        "        _, pred = torch.max(output, 1)\n",
        "        # compare predictions to true label\n",
        "        correct = np.squeeze(pred.eq(target.data.view_as(pred)))\n",
        "        # calculate test accuracy for each object class\n",
        "        for i in range(batch_size):\n",
        "            label = target.data[i]\n",
        "            class_correct[label] += correct[i].item()\n",
        "            class_total[label] += 1\n",
        "\n",
        "    print('Test Loss: {:.6f}\\n'.format(test_loss/len(test_loader.dataset)))\n",
        "\n",
        "    for i in range(10):\n",
        "        if class_total[i] > 0:\n",
        "            print('Test Accuracy of %5s: %2d%% (%2d/%2d)' % (\n",
        "                str(i), 100 * class_correct[i] / class_total[i],\n",
        "                np.sum(class_correct[i]), np.sum(class_total[i])))\n",
        "        else:\n",
        "            print('Test Accuracy of %5s: N/A (no training examples)' % (classes[i]))\n",
        "\n",
        "    print('\\nTest Accuracy (Overall): %2d%% (%2d/%2d)' % (\n",
        "        100. * np.sum(class_correct) / np.sum(class_total),\n",
        "        np.sum(class_correct), np.sum(class_total)))"
      ],
      "execution_count": 0,
      "outputs": []
    },
    {
      "cell_type": "code",
      "metadata": {
        "id": "88FCKLCZh7P5",
        "colab_type": "code",
        "colab": {
          "base_uri": "https://localhost:8080/",
          "height": 255
        },
        "outputId": "aa9a27c5-f06d-40e4-fd9c-8cacf4838213"
      },
      "source": [
        "# test batchnorm case, in *train* mode\n",
        "test(net_batchnorm, train=True)"
      ],
      "execution_count": 11,
      "outputs": [
        {
          "output_type": "stream",
          "text": [
            "Test Loss: 0.082977\n",
            "\n",
            "Test Accuracy of     0: 98% (966/980)\n",
            "Test Accuracy of     1: 99% (1127/1135)\n",
            "Test Accuracy of     2: 97% (1003/1032)\n",
            "Test Accuracy of     3: 97% (985/1010)\n",
            "Test Accuracy of     4: 97% (953/982)\n",
            "Test Accuracy of     5: 97% (869/892)\n",
            "Test Accuracy of     6: 97% (932/958)\n",
            "Test Accuracy of     7: 96% (994/1028)\n",
            "Test Accuracy of     8: 97% (947/974)\n",
            "Test Accuracy of     9: 95% (965/1009)\n",
            "\n",
            "Test Accuracy (Overall): 97% (9741/10000)\n"
          ],
          "name": "stdout"
        }
      ]
    },
    {
      "cell_type": "code",
      "metadata": {
        "id": "PzSxajPUiAHe",
        "colab_type": "code",
        "colab": {
          "base_uri": "https://localhost:8080/",
          "height": 255
        },
        "outputId": "9613ecec-948d-41ad-db61-20831570a25e"
      },
      "source": [
        "# test batchnorm case, in *evaluation* mode\n",
        "test(net_batchnorm, train=False)"
      ],
      "execution_count": 12,
      "outputs": [
        {
          "output_type": "stream",
          "text": [
            "Test Loss: 0.071404\n",
            "\n",
            "Test Accuracy of     0: 98% (970/980)\n",
            "Test Accuracy of     1: 99% (1127/1135)\n",
            "Test Accuracy of     2: 97% (1006/1032)\n",
            "Test Accuracy of     3: 98% (993/1010)\n",
            "Test Accuracy of     4: 97% (955/982)\n",
            "Test Accuracy of     5: 97% (874/892)\n",
            "Test Accuracy of     6: 97% (935/958)\n",
            "Test Accuracy of     7: 96% (996/1028)\n",
            "Test Accuracy of     8: 96% (937/974)\n",
            "Test Accuracy of     9: 97% (986/1009)\n",
            "\n",
            "Test Accuracy (Overall): 97% (9779/10000)\n"
          ],
          "name": "stdout"
        }
      ]
    },
    {
      "cell_type": "code",
      "metadata": {
        "id": "ugTgA8o3iE3O",
        "colab_type": "code",
        "colab": {
          "base_uri": "https://localhost:8080/",
          "height": 255
        },
        "outputId": "d24faeb7-e846-4039-d9ed-1db2909df690"
      },
      "source": [
        "# for posterity, test no norm case in eval mode\n",
        "test(net_no_norm, train=False)"
      ],
      "execution_count": 13,
      "outputs": [
        {
          "output_type": "stream",
          "text": [
            "Test Loss: 0.206167\n",
            "\n",
            "Test Accuracy of     0: 98% (965/980)\n",
            "Test Accuracy of     1: 98% (1114/1135)\n",
            "Test Accuracy of     2: 91% (941/1032)\n",
            "Test Accuracy of     3: 93% (941/1010)\n",
            "Test Accuracy of     4: 93% (917/982)\n",
            "Test Accuracy of     5: 92% (827/892)\n",
            "Test Accuracy of     6: 94% (907/958)\n",
            "Test Accuracy of     7: 92% (954/1028)\n",
            "Test Accuracy of     8: 91% (888/974)\n",
            "Test Accuracy of     9: 93% (942/1009)\n",
            "\n",
            "Test Accuracy (Overall): 93% (9396/10000)\n"
          ],
          "name": "stdout"
        }
      ]
    }
  ]
}